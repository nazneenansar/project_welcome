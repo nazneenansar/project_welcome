{
  "nbformat": 4,
  "nbformat_minor": 0,
  "metadata": {
    "colab": {
      "name": "paraphrase.ipynb",
      "provenance": [],
      "collapsed_sections": []
    },
    "kernelspec": {
      "name": "python3",
      "display_name": "Python 3"
    },
    "language_info": {
      "name": "python"
    }
  },
  "cells": [
    {
      "cell_type": "code",
      "metadata": {
        "id": "JeObOANOHSZ8"
      },
      "source": [
        "! pip install git+https://github.com/PrithivirajDamodaran/Parrot.git"
      ],
      "execution_count": null,
      "outputs": []
    },
    {
      "cell_type": "code",
      "metadata": {
        "id": "82aBk31THVG1"
      },
      "source": [
        "from parrot import Parrot\n",
        "import torch\n",
        "import warnings\n",
        "warnings.filterwarnings(\"ignore\")"
      ],
      "execution_count": null,
      "outputs": []
    },
    {
      "cell_type": "code",
      "metadata": {
        "id": "38QohuW-HwG9"
      },
      "source": [
        "parrot = Parrot(model_tag=\"prithivida/parrot_paraphraser_on_T5\")"
      ],
      "execution_count": null,
      "outputs": []
    },
    {
      "cell_type": "code",
      "metadata": {
        "id": "g_7ZwlzNHoSC"
      },
      "source": [
        "file = open(\"final-tweets.txt\")\n",
        "data = file.readlines()\n",
        "file.close()"
      ],
      "execution_count": null,
      "outputs": []
    },
    {
      "cell_type": "code",
      "metadata": {
        "id": "Hpfkoa3qHt5M"
      },
      "source": [
        "file = open(\"to-post.txt\", \"w\")\n",
        "for phrase in data:\n",
        "  para_phrases = parrot.augment(input_phrase=phrase, max_return_phrases = 1)\n",
        "  for para_phrase in para_phrases:\n",
        "   file.write(para_phrase[0])\n",
        "file.close()"
      ],
      "execution_count": null,
      "outputs": []
    }
  ]
}
